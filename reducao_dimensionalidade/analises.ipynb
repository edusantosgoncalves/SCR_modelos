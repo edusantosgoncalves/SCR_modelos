{
 "cells": [
  {
   "cell_type": "code",
   "execution_count": null,
   "metadata": {},
   "outputs": [],
   "source": [
    "import numpy as np\n",
    "import pandas as pd\n",
    "import matplotlib.pyplot as plt\n",
    "from sklearn.datasets import make_classification\n",
    "from sklearn.model_selection import train_test_split\n",
    "from sklearn.feature_extraction.text import CountVectorizer\n",
    "from sklearn.linear_model import LogisticRegression\n",
    "from sklearn.metrics import roc_curve, roc_auc_score\n",
    "\n",
    "# Gerar dados de exemplo\n",
    "data = pd.read_csv(\"https://raw.githubusercontent.com/edusantosgoncalves/SCR_modelos/main/DataSetForSCR_Final.csv\", encoding=\"unicode_escape\")\n",
    "data[\"Label\"] = data[\"Label\"].replace('Non SCR', 0)\n",
    "data[\"Label\"] = data[\"Label\"].replace('SCR', 1)\n",
    "# !! C LIMPEZA PARCIAL\n",
    "X = data[\"Sentence\"].str.lower()\n",
    "X = X.str.replace(\"[^a-zA-Z0-9 ]\", \" \")\n",
    "Y = data[\"Label\"]"
   ]
  }
 ],
 "metadata": {
  "language_info": {
   "name": "python"
  }
 },
 "nbformat": 4,
 "nbformat_minor": 2
}
